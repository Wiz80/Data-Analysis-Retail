{
 "cells": [
  {
   "cell_type": "code",
   "execution_count": 12,
   "metadata": {},
   "outputs": [],
   "source": [
    "import pandas as pd\n",
    "import matplotlib.pyplot as plt\n",
    "import seaborn as sns\n"
   ]
  },
  {
   "cell_type": "code",
   "execution_count": 5,
   "metadata": {},
   "outputs": [],
   "source": [
    "url = 'online_retail.xlsx'\n",
    "# url = 'https://archive.ics.uci.edu/ml/machine-learning-databases/00352/Online%20Retail.xlsx'\n",
    "data_2009_2010 = pd.read_excel(url, sheet_name='Year 2009-2010')\n",
    "data_2010_2011 = pd.read_excel(url, sheet_name='Year 2010-2011')\n",
    "data = pd.concat([data_2009_2010, data_2010_2011])"
   ]
  },
  {
   "cell_type": "markdown",
   "metadata": {},
   "source": [
    "### Pais que más productos consume"
   ]
  },
  {
   "cell_type": "code",
   "execution_count": 6,
   "metadata": {},
   "outputs": [
    {
     "name": "stdout",
     "output_type": "stream",
     "text": [
      "Country\n",
      "United Kingdom          8692875\n",
      "Netherlands              381951\n",
      "EIRE                     331341\n",
      "Denmark                  235218\n",
      "Germany                  224581\n",
      "France                   184952\n",
      "Australia                103706\n",
      "Sweden                    87875\n",
      "Switzerland               52378\n",
      "Spain                     45156\n",
      "Belgium                   35132\n",
      "Japan                     31822\n",
      "Portugal                  28058\n",
      "Norway                    27110\n",
      "Channel Islands           20473\n",
      "Italy                     15309\n",
      "Finland                   14317\n",
      "Austria                   11306\n",
      "Cyprus                    10688\n",
      "Greece                     7707\n",
      "Hong Kong                  7075\n",
      "Singapore                  6987\n",
      "United Arab Emirates       6728\n",
      "Unspecified                6716\n",
      "Poland                     5644\n",
      "Israel                     5485\n",
      "USA                        3700\n",
      "Canada                     3657\n",
      "Iceland                    3286\n",
      "Lithuania                  2958\n",
      "Bermuda                    2798\n",
      "Thailand                   2552\n",
      "Malta                      2491\n",
      "RSA                        1970\n",
      "Bahrain                    1275\n",
      "Korea                       598\n",
      "Czech Republic              592\n",
      "Brazil                      545\n",
      "European Community          497\n",
      "Lebanon                     457\n",
      "West Indies                 395\n",
      "Saudi Arabia                 75\n",
      "Nigeria                      56\n",
      "Name: Quantity, dtype: int64\n"
     ]
    }
   ],
   "source": [
    "country_product = data.groupby('Country')['Quantity'].sum().sort_values(ascending=False)\n",
    "print(country_product)"
   ]
  },
  {
   "cell_type": "markdown",
   "metadata": {},
   "source": [
    "### Los productos más vendidos o los más populares en términos de ganancias o cantidad de ventas"
   ]
  },
  {
   "cell_type": "code",
   "execution_count": 7,
   "metadata": {},
   "outputs": [
    {
     "name": "stdout",
     "output_type": "stream",
     "text": [
      "Description\n",
      "WORLD WAR 2 GLIDERS ASSTD DESIGNS     108545\n",
      "WHITE HANGING HEART T-LIGHT HOLDER     93050\n",
      "ASSORTED COLOUR BIRD ORNAMENT          81306\n",
      "JUMBO BAG RED RETROSPOT                78090\n",
      "BROCADE RING PURSE                     70700\n",
      "                                       ...  \n",
      "Unsaleable, destroyed.                -15644\n",
      "missing                               -16467\n",
      "printing smudges/thrown away          -19200\n",
      "given away                            -20000\n",
      "?                                     -26757\n",
      "Name: Quantity, Length: 5698, dtype: int64\n",
      "Description\n",
      "REGENCY CAKESTAND 3 TIER              327813.650\n",
      "DOTCOM POSTAGE                        322647.470\n",
      "WHITE HANGING HEART T-LIGHT HOLDER    257533.900\n",
      "JUMBO BAG RED RETROSPOT               148800.640\n",
      "PARTY BUNTING                         147948.500\n",
      "                                         ...    \n",
      "Discount                              -13484.540\n",
      "Bank Charges                          -33493.669\n",
      "Manual                                -82781.270\n",
      "Adjust bad debt                      -147614.080\n",
      "AMAZON FEE                           -260763.580\n",
      "Name: Revenue, Length: 5698, dtype: float64\n"
     ]
    }
   ],
   "source": [
    "#Por cantidad de ventas\n",
    "popular_products_quantity = data.groupby('Description')['Quantity'].sum().sort_values(ascending=False)\n",
    "print(popular_products_quantity)\n",
    "\n",
    "# Por ganancias\n",
    "data['Revenue'] = data['Quantity'] * data['Price']\n",
    "popular_products_revenue = data.groupby('Description')['Revenue'].sum().sort_values(ascending=False)\n",
    "print(popular_products_revenue)\n"
   ]
  },
  {
   "cell_type": "markdown",
   "metadata": {},
   "source": [
    "\n",
    "Las ventas en línea a veces pueden tener devoluciones de productos o cancelaciones de pedidos que son registradas como cantidades negativas en los conjuntos de datos. En el caso de este conjunto de datos, parece que los valores negativos están representando estos casos."
   ]
  },
  {
   "cell_type": "code",
   "execution_count": 8,
   "metadata": {},
   "outputs": [
    {
     "name": "stdout",
     "output_type": "stream",
     "text": [
      "Description\n",
      "WORLD WAR 2 GLIDERS ASSTD DESIGNS     110249\n",
      "WHITE HANGING HEART T-LIGHT HOLDER     96688\n",
      "ASSORTED COLOUR BIRD ORNAMENT          81817\n",
      "PAPER CRAFT , LITTLE BIRDIE            80995\n",
      "JUMBO BAG RED RETROSPOT                79285\n",
      "                                       ...  \n",
      "F FAIRY POTPOURRI CUSHIONS SUMMER          1\n",
      "SET 10 CARDS SNOWY ROBIN 17099             1\n",
      "F.FAIRY S/3 SML CANDLE, LAVENDER           1\n",
      "SET 10 CARDS TRIANGLE ICONS  17220         1\n",
      "HANDZ-OFF CAR FRESHENER                    1\n",
      "Name: Quantity, Length: 5469, dtype: int64\n",
      "Description\n",
      "REGENCY CAKESTAND 3 TIER              344563.250\n",
      "Manual                                341104.900\n",
      "DOTCOM POSTAGE                        322657.480\n",
      "WHITE HANGING HEART T-LIGHT HOLDER    266923.550\n",
      "PAPER CRAFT , LITTLE BIRDIE           168469.600\n",
      "                                         ...    \n",
      "CAT W SUNGLASSES BLANK CARD                0.760\n",
      "SET 12 COLOURING PENCILS DOILEY            0.650\n",
      "PINK HEART CHRISTMAS DECORATION            0.380\n",
      "HAPPY BIRTHDAY GINGER CAT CARD             0.380\n",
      "PADS TO MATCH ALL CUSHIONS                 0.017\n",
      "Name: Revenue, Length: 5399, dtype: float64\n"
     ]
    }
   ],
   "source": [
    "# Filtrar el dataframe para excluir valores negativos\n",
    "data_sales = data[data['Quantity'] > 0]\n",
    "data_revenue = data[data['Revenue'] > 0]\n",
    "\n",
    "popular_products_quantity = data_sales.groupby('Description')['Quantity'].sum().sort_values(ascending=False)\n",
    "print(popular_products_quantity)\n",
    "\n",
    "popular_products_revenue = data_revenue.groupby('Description')['Revenue'].sum().sort_values(ascending=False)\n",
    "print(popular_products_revenue)\n"
   ]
  },
  {
   "cell_type": "markdown",
   "metadata": {},
   "source": [
    "### Tendencias"
   ]
  },
  {
   "cell_type": "code",
   "execution_count": 13,
   "metadata": {},
   "outputs": [
    {
     "data": {
      "image/png": "[encoded data removed]",
      "text/plain": [
       "<Figure size 640x480 with 1 Axes>"
      ]
     },
     "metadata": {},
     "output_type": "display_data"
    }
   ],
   "source": [
    "# Convertir la columna InvoiceDate a formato datetime\n",
    "data['InvoiceDate'] = pd.to_datetime(data['InvoiceDate'])\n",
    "\n",
    "# Agregar una columna de 'Month'\n",
    "data['Month'] = data['InvoiceDate'].dt.month\n",
    "\n",
    "# Calcular ventas por mes\n",
    "monthly_sales = data.groupby('Month')['Quantity'].sum()\n",
    "\n",
    "# Graficar ventas mensuales\n",
    "monthly_sales.plot(kind='line', title='Ventas mensuales')\n",
    "plt.show()\n"
   ]
  },
  {
   "cell_type": "markdown",
   "metadata": {},
   "source": [
    "Las ventas aumentan entre los meses de Julio a Noviembre, esto se puede deber a estos posibles factores:\n",
    "Compras de vacaciones: Los picos de ventas de agosto a noviembre podrían estar relacionados con las compras de la temporada de vacaciones. Muchas personas comienzan a comprar regalos para las vacaciones de fin de año durante estos meses, lo que podría explicar el aumento en las ventas. Este patrón se observa a menudo en los datos de ventas al por menor.\n",
    "\n",
    "Ventas del \"Black Friday\" y \"Cyber Monday\": En muchos países, noviembre es el mes en que se celebran las ventas del \"Black Friday\" y el \"Cyber Monday\". Estos días de ventas masivas podrían ser responsables de un pico significativo en las ventas durante este mes.\n",
    "\n",
    "Promociones y descuentos de temporada: Muchas empresas también ofrecen promociones y descuentos especiales durante la temporada de fin de año para atraer a los clientes. Estas promociones podrían estar impulsando las ventas durante estos meses.\n",
    "\n",
    "Comportamiento del consumidor: Las personas tienden a gastar más al final del año debido a las festividades, las vacaciones y, a veces, por la necesidad de gastar presupuestos (personales y profesionales) antes de que termine el año."
   ]
  },
  {
   "cell_type": "markdown",
   "metadata": {},
   "source": [
    "### Análisis de correlación"
   ]
  },
  {
   "cell_type": "code",
   "execution_count": 14,
   "metadata": {},
   "outputs": [
    {
     "data": {
      "image/png": "[encoded data removed]",
      "text/plain": [
       "<Figure size 640x480 with 2 Axes>"
      ]
     },
     "metadata": {},
     "output_type": "display_data"
    }
   ],
   "source": [
    "correlation = data[['Price', 'xsQuantity']].corr()\n",
    "sns.heatmap(correlation, annot=True, cmap='coolwarm')\n",
    "plt.show()\n"
   ]
  },
  {
   "cell_type": "markdown",
   "metadata": {},
   "source": [
    "En tu caso, el coeficiente de correlación entre 'Price' y 'Quantity' es -0.0013. Esto es muy cercano a 0, lo que indica que no hay una correlación significativa entre el precio de un producto y la cantidad vendida de ese producto\n",
    "\n",
    "En otras palabras, cambiar el precio del producto (al menos dentro del rango de precios existente en tus datos) no parece tener un efecto significativo en cuántas unidades se venden, y viceversa."
   ]
  }
 ],
 "metadata": {
  "kernelspec": {
   "display_name": "venv",
   "language": "python",
   "name": "python3"
  },
  "language_info": {
   "codemirror_mode": {
    "name": "ipython",
    "version": 3
   },
   "file_extension": ".py",
   "mimetype": "text/x-python",
   "name": "python",
   "nbconvert_exporter": "python",
   "pygments_lexer": "ipython3",
   "version": "3.11.4"
  },
  "orig_nbformat": 4
 },
 "nbformat": 4,
 "nbformat_minor": 2
}
